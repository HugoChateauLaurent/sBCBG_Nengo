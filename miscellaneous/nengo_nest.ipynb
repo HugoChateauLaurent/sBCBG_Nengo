{
 "cells": [
  {
   "cell_type": "code",
   "execution_count": 1,
   "metadata": {},
   "outputs": [],
   "source": [
    "import nengo\n",
    "#import nest\n",
    "import matplotlib.pyplot as plt\n",
    "from math import exp\n",
    "import numpy as np\n",
    "from numpy import e"
   ]
  },
  {
   "cell_type": "markdown",
   "metadata": {},
   "source": [
    "**Nengo/NEST parameter correspondence (unfinished)**\n",
    "![title](nengo_nest_params.png)"
   ]
  },
  {
   "cell_type": "code",
   "execution_count": 5,
   "metadata": {},
   "outputs": [
    {
     "name": "stdout",
     "output_type": "stream",
     "text": [
      "[1.8393972058572117, 36.787944117144235, 1.8393972058572117]\n"
     ]
    }
   ],
   "source": [
    "A_AMPA= 1.\n",
    "A_NMDA= 0.025\n",
    "A_GABA=-0.25 # mV\n",
    "\n",
    "D_AMPA=5./exp(1)\n",
    "D_NMDA=100./exp(1)\n",
    "D_GABA=5./exp(1)   # ms ; /e because Dn is peak half-time in LG14, while it is supposed to be tau_peak in NEST\n",
    "\n",
    "tau_syn = [D_AMPA, D_NMDA, D_GABA]\n",
    "print(tau_syn)\n",
    "wPSP = [A_AMPA, A_NMDA, A_GABA]  # PSP amplitude (mV) ; A in LG14 notation\n",
    "\n",
    "CommonParams = {'t_ref':         2.0,\n",
    "                'V_m':           0.0,\n",
    "                'V_th':         10.0, # dummy value to avoid NEST complaining about identical V_th and V_reset values\n",
    "                'E_L':           0.0, # resting potential\n",
    "                'V_reset':       0.0,\n",
    "                'I_e':           0.0,\n",
    "                'V_min':       -20.0, # as in HSG06\n",
    "                'tau_syn':   tau_syn,}\n",
    "\n",
    "MSNparams = {'tau_m':        13.0, # according to SBE12\n",
    "             'V_th':         30.0, # value of the LG14 example model, table 9\n",
    "             'C_m':          13.0,  # so that R_m=1, C_m=tau_m\n",
    "             'tau_syn':tau_syn\n",
    "            }\n"
   ]
  },
  {
   "cell_type": "code",
   "execution_count": 3,
   "metadata": {},
   "outputs": [
    {
     "ename": "NameError",
     "evalue": "name 'nest' is not defined",
     "output_type": "error",
     "traceback": [
      "\u001b[0;31m---------------------------------------------------------------------------\u001b[0m",
      "\u001b[0;31mNameError\u001b[0m                                 Traceback (most recent call last)",
      "\u001b[0;32m<ipython-input-3-5351e8b25e2e>\u001b[0m in \u001b[0;36m<module>\u001b[0;34m()\u001b[0m\n\u001b[1;32m      1\u001b[0m \u001b[0;31m#Nest kernel settings\u001b[0m\u001b[0;34m\u001b[0m\u001b[0;34m\u001b[0m\u001b[0m\n\u001b[0;32m----> 2\u001b[0;31m \u001b[0mnest\u001b[0m\u001b[0;34m.\u001b[0m\u001b[0mResetKernel\u001b[0m\u001b[0;34m(\u001b[0m\u001b[0;34m)\u001b[0m\u001b[0;34m\u001b[0m\u001b[0m\n\u001b[0m\u001b[1;32m      3\u001b[0m \u001b[0mmsd\u001b[0m \u001b[0;34m=\u001b[0m \u001b[0;36m1\u001b[0m\u001b[0;34m\u001b[0m\u001b[0m\n\u001b[1;32m      4\u001b[0m \u001b[0mN_vp\u001b[0m \u001b[0;34m=\u001b[0m \u001b[0mnest\u001b[0m\u001b[0;34m.\u001b[0m\u001b[0mGetKernelStatus\u001b[0m\u001b[0;34m(\u001b[0m\u001b[0;34m[\u001b[0m\u001b[0;34m'total_num_virtual_procs'\u001b[0m\u001b[0;34m]\u001b[0m\u001b[0;34m)\u001b[0m\u001b[0;34m[\u001b[0m\u001b[0;36m0\u001b[0m\u001b[0;34m]\u001b[0m\u001b[0;34m\u001b[0m\u001b[0m\n\u001b[1;32m      5\u001b[0m \u001b[0mnest\u001b[0m\u001b[0;34m.\u001b[0m\u001b[0mSetKernelStatus\u001b[0m\u001b[0;34m(\u001b[0m\u001b[0;34m{\u001b[0m\u001b[0;34m\"resolution\"\u001b[0m\u001b[0;34m:\u001b[0m \u001b[0;36m.001\u001b[0m\u001b[0;34m}\u001b[0m\u001b[0;34m)\u001b[0m\u001b[0;34m\u001b[0m\u001b[0m\n",
      "\u001b[0;31mNameError\u001b[0m: name 'nest' is not defined"
     ]
    }
   ],
   "source": [
    "#Nest kernel settings\n",
    "nest.ResetKernel()\n",
    "msd = 1\n",
    "N_vp = nest.GetKernelStatus(['total_num_virtual_procs'])[0]\n",
    "nest.SetKernelStatus({\"resolution\": .001})\n",
    "pyrngs = [np.random.RandomState(s) for s in range(msd, msd+N_vp)]\n",
    "nest.SetKernelStatus({'grng_seed' : msd+N_vp})\n",
    "nest.SetKernelStatus({'rng_seeds' : range(msd+N_vp+1, msd+2*N_vp+1)})\n",
    "\n",
    "#Change LIF (iaf) default parameters\n",
    "nest.SetDefaults(\"iaf_psc_alpha_multisynapse\", CommonParams)\n",
    "\n",
    "\n",
    "\n",
    "#create populations\n",
    "AMPA_thr = 0.45\n",
    "NMDA_thr = 0.87\n",
    "out_thr = 0.45\n",
    "AMPA_in = nest.Create(\"iaf_psc_alpha_multisynapse\",\n",
    "            params={'V_th':          AMPA_thr, \n",
    "                    'I_e':           1.5, \n",
    "                    't_ref':         2., \n",
    "                    'V_min':         0., \n",
    "                    'tau_m':         20., \n",
    "                    'C_m':           20.,\n",
    "                    'V_m':           0.0,\n",
    "                    'E_L':           0.0,\n",
    "                    'V_reset':       0.0})\n",
    "\n",
    "NMDA_in = nest.Create(\"iaf_psc_alpha_multisynapse\",\n",
    "            params={'V_th':          NMDA_thr, \n",
    "                    'I_e':           1.5, \n",
    "                    't_ref':         2., \n",
    "                    'V_min':         0., \n",
    "                    'tau_m':         20., \n",
    "                    'C_m':           20.,\n",
    "                    'V_m':           0.0,\n",
    "                    'E_L':           0.0,\n",
    "                    'V_reset':       0.0})\n",
    "\n",
    "\n",
    "out = nest.Create(\"iaf_psc_alpha_multisynapse\",\n",
    "            params={'V_th':          out_thr, \n",
    "                    'I_e':           0., \n",
    "                    't_ref':         2., \n",
    "                    'V_min':         0., \n",
    "                    'tau_m':         20., \n",
    "                    'C_m':           20.,\n",
    "                    'V_m':           0.0,\n",
    "                    'E_L':           0.0, \n",
    "                    'V_reset':       0.0})\n",
    "\n",
    "#make connections in -> out\n",
    "nest.Connect(AMPA_in, out, syn_spec={'delay':.1, 'receptor_type':1, 'weight':1})\n",
    "nest.Connect(NMDA_in, out, syn_spec={'delay':.1, 'receptor_type':2, 'weight':0.7})\n",
    "\n",
    "\n",
    "#set multimeter\n",
    "multimeter = nest.Create(\"multimeter\")\n",
    "nest.SetStatus(multimeter, {\"withtime\":True, \"record_from\":[\"V_m\", \"I_syn_1\", \"I_syn\", \"I_syn_2\"]})\n",
    "nest.Connect(multimeter, out, syn_spec={'delay':.1})\n",
    "\n",
    "\n",
    "nest.Simulate(100.0)\n",
    "\n",
    "#get data\n",
    "dmm = nest.GetStatus(multimeter)[0]\n",
    "Vms = dmm[\"events\"][\"V_m\"]\n",
    "I_syn = dmm[\"events\"][\"I_syn\"]\n",
    "I_syn_1 = dmm[\"events\"][\"I_syn_1\"]\n",
    "I_syn_2 = dmm[\"events\"][\"I_syn_2\"]\n",
    "ts = dmm[\"events\"][\"times\"]\n",
    "\n",
    "#plot data\n",
    "plt.figure(figsize = (18,6))\n",
    "plt.subplot(121)\n",
    "plt.plot(ts, I_syn, color='gray', linewidth=4., label='Sum')\n",
    "plt.plot(ts, I_syn_1, color='black', linewidth=1.4, linestyle='--', label='AMPA')\n",
    "plt.plot(ts, I_syn_2, color='black', linewidth=1.4, linestyle='-.', label='NMDA')\n",
    "plt.legend()\n",
    "plt.ylabel('Input currents (mV)')\n",
    "plt.xlabel('Time (ms)')\n",
    "plt.title(\"out neuron input\")\n",
    "\n",
    "plt.subplot(122)\n",
    "plt.plot(ts, Vms, color='black', linewidth=2.)\n",
    "plt.title(\"out neuron activity\")\n",
    "plt.ylabel('Membrane voltage (mV)')\n",
    "plt.xlabel('Time (ms)')\n",
    "plt.show()\n",
    "\n"
   ]
  },
  {
   "cell_type": "code",
   "execution_count": 4,
   "metadata": {},
   "outputs": [
    {
     "ename": "ReadonlyError",
     "evalue": "LIF.tau_rc: tau_rc is read-only and cannot be changed",
     "output_type": "error",
     "traceback": [
      "\u001b[0;31m---------------------------------------------------------------------------\u001b[0m",
      "\u001b[0;31mReadonlyError\u001b[0m                             Traceback (most recent call last)",
      "\u001b[0;32m<ipython-input-4-47f4bec75ae4>\u001b[0m in \u001b[0;36m<module>\u001b[0;34m()\u001b[0m\n\u001b[1;32m      9\u001b[0m     \u001b[0;31m#LIF types\u001b[0m\u001b[0;34m\u001b[0m\u001b[0;34m\u001b[0m\u001b[0m\n\u001b[1;32m     10\u001b[0m     \u001b[0mtype_AMPA\u001b[0m \u001b[0;34m=\u001b[0m \u001b[0mnengo\u001b[0m\u001b[0;34m.\u001b[0m\u001b[0mneurons\u001b[0m\u001b[0;34m.\u001b[0m\u001b[0mLIF\u001b[0m\u001b[0;34m(\u001b[0m\u001b[0mtau_rc\u001b[0m\u001b[0;34m=\u001b[0m\u001b[0;36m0.02\u001b[0m\u001b[0;34m,\u001b[0m \u001b[0mtau_ref\u001b[0m\u001b[0;34m=\u001b[0m\u001b[0;36m0.002\u001b[0m\u001b[0;34m,\u001b[0m \u001b[0mmin_voltage\u001b[0m\u001b[0;34m=\u001b[0m\u001b[0;36m0\u001b[0m\u001b[0;34m,\u001b[0m \u001b[0mamplitude\u001b[0m\u001b[0;34m=\u001b[0m\u001b[0;36m1\u001b[0m\u001b[0;34m)\u001b[0m\u001b[0;34m\u001b[0m\u001b[0m\n\u001b[0;32m---> 11\u001b[0;31m     \u001b[0mtype_AMPA\u001b[0m\u001b[0;34m.\u001b[0m\u001b[0mtau_rc\u001b[0m \u001b[0;34m=\u001b[0m\u001b[0;36m.01\u001b[0m\u001b[0;34m\u001b[0m\u001b[0m\n\u001b[0m\u001b[1;32m     12\u001b[0m     \u001b[0mtype_NMDA\u001b[0m \u001b[0;34m=\u001b[0m \u001b[0mnengo\u001b[0m\u001b[0;34m.\u001b[0m\u001b[0mneurons\u001b[0m\u001b[0;34m.\u001b[0m\u001b[0mLIF\u001b[0m\u001b[0;34m(\u001b[0m\u001b[0mtau_rc\u001b[0m\u001b[0;34m=\u001b[0m\u001b[0;36m0.02\u001b[0m\u001b[0;34m,\u001b[0m \u001b[0mtau_ref\u001b[0m\u001b[0;34m=\u001b[0m\u001b[0;36m0.002\u001b[0m\u001b[0;34m,\u001b[0m \u001b[0mmin_voltage\u001b[0m\u001b[0;34m=\u001b[0m\u001b[0;36m0\u001b[0m\u001b[0;34m,\u001b[0m \u001b[0mamplitude\u001b[0m\u001b[0;34m=\u001b[0m\u001b[0;36m1\u001b[0m\u001b[0;34m)\u001b[0m\u001b[0;34m\u001b[0m\u001b[0m\n\u001b[1;32m     13\u001b[0m     \u001b[0;31m#create input pop\u001b[0m\u001b[0;34m\u001b[0m\u001b[0;34m\u001b[0m\u001b[0m\n",
      "\u001b[0;32m/usr/local/lib/python3.5/dist-packages/nengo/params.py\u001b[0m in \u001b[0;36m__set__\u001b[0;34m(self, instance, value)\u001b[0m\n\u001b[1;32m    122\u001b[0m \u001b[0;34m\u001b[0m\u001b[0m\n\u001b[1;32m    123\u001b[0m     \u001b[0;32mdef\u001b[0m \u001b[0m__set__\u001b[0m\u001b[0;34m(\u001b[0m\u001b[0mself\u001b[0m\u001b[0;34m,\u001b[0m \u001b[0minstance\u001b[0m\u001b[0;34m,\u001b[0m \u001b[0mvalue\u001b[0m\u001b[0;34m)\u001b[0m\u001b[0;34m:\u001b[0m\u001b[0;34m\u001b[0m\u001b[0m\n\u001b[0;32m--> 124\u001b[0;31m         \u001b[0mself\u001b[0m\u001b[0;34m.\u001b[0m\u001b[0mdata\u001b[0m\u001b[0;34m[\u001b[0m\u001b[0minstance\u001b[0m\u001b[0;34m]\u001b[0m \u001b[0;34m=\u001b[0m \u001b[0mself\u001b[0m\u001b[0;34m.\u001b[0m\u001b[0mcoerce\u001b[0m\u001b[0;34m(\u001b[0m\u001b[0minstance\u001b[0m\u001b[0;34m,\u001b[0m \u001b[0mvalue\u001b[0m\u001b[0;34m)\u001b[0m\u001b[0;34m\u001b[0m\u001b[0m\n\u001b[0m\u001b[1;32m    125\u001b[0m \u001b[0;34m\u001b[0m\u001b[0m\n\u001b[1;32m    126\u001b[0m     \u001b[0;32mdef\u001b[0m \u001b[0m__repr__\u001b[0m\u001b[0;34m(\u001b[0m\u001b[0mself\u001b[0m\u001b[0;34m)\u001b[0m\u001b[0;34m:\u001b[0m\u001b[0;34m\u001b[0m\u001b[0m\n",
      "\u001b[0;32m/usr/local/lib/python3.5/dist-packages/nengo/params.py\u001b[0m in \u001b[0;36mcoerce\u001b[0;34m(self, instance, num)\u001b[0m\n\u001b[1;32m    261\u001b[0m                         \u001b[0mself\u001b[0m\u001b[0;34m.\u001b[0m\u001b[0mhigh\u001b[0m\u001b[0;34m,\u001b[0m\u001b[0;34m\u001b[0m\u001b[0m\n\u001b[1;32m    262\u001b[0m                         num), attr=self.name, obj=instance)\n\u001b[0;32m--> 263\u001b[0;31m         \u001b[0;32mreturn\u001b[0m \u001b[0msuper\u001b[0m\u001b[0;34m(\u001b[0m\u001b[0mNumberParam\u001b[0m\u001b[0;34m,\u001b[0m \u001b[0mself\u001b[0m\u001b[0;34m)\u001b[0m\u001b[0;34m.\u001b[0m\u001b[0mcoerce\u001b[0m\u001b[0;34m(\u001b[0m\u001b[0minstance\u001b[0m\u001b[0;34m,\u001b[0m \u001b[0mnum\u001b[0m\u001b[0;34m)\u001b[0m\u001b[0;34m\u001b[0m\u001b[0m\n\u001b[0m\u001b[1;32m    264\u001b[0m \u001b[0;34m\u001b[0m\u001b[0m\n\u001b[1;32m    265\u001b[0m \u001b[0;34m\u001b[0m\u001b[0m\n",
      "\u001b[0;32m/usr/local/lib/python3.5/dist-packages/nengo/params.py\u001b[0m in \u001b[0;36mcoerce\u001b[0;34m(self, instance, value)\u001b[0m\n\u001b[1;32m    164\u001b[0m                                   attr=self.name, obj=instance)\n\u001b[1;32m    165\u001b[0m         \u001b[0;32mif\u001b[0m \u001b[0mself\u001b[0m\u001b[0;34m.\u001b[0m\u001b[0mreadonly\u001b[0m \u001b[0;32mand\u001b[0m \u001b[0minstance\u001b[0m \u001b[0;32min\u001b[0m \u001b[0mself\u001b[0m\u001b[0;34m.\u001b[0m\u001b[0mdata\u001b[0m\u001b[0;34m:\u001b[0m\u001b[0;34m\u001b[0m\u001b[0m\n\u001b[0;32m--> 166\u001b[0;31m             \u001b[0;32mraise\u001b[0m \u001b[0mReadonlyError\u001b[0m\u001b[0;34m(\u001b[0m\u001b[0mattr\u001b[0m\u001b[0;34m=\u001b[0m\u001b[0mself\u001b[0m\u001b[0;34m.\u001b[0m\u001b[0mname\u001b[0m\u001b[0;34m,\u001b[0m \u001b[0mobj\u001b[0m\u001b[0;34m=\u001b[0m\u001b[0minstance\u001b[0m\u001b[0;34m)\u001b[0m\u001b[0;34m\u001b[0m\u001b[0m\n\u001b[0m\u001b[1;32m    167\u001b[0m         \u001b[0;32mif\u001b[0m \u001b[0;32mnot\u001b[0m \u001b[0mself\u001b[0m\u001b[0;34m.\u001b[0m\u001b[0moptional\u001b[0m \u001b[0;32mand\u001b[0m \u001b[0mvalue\u001b[0m \u001b[0;32mis\u001b[0m \u001b[0;32mNone\u001b[0m\u001b[0;34m:\u001b[0m\u001b[0;34m\u001b[0m\u001b[0m\n\u001b[1;32m    168\u001b[0m             raise ValidationError(\"Parameter is not optional; cannot set to \"\n",
      "\u001b[0;31mReadonlyError\u001b[0m: LIF.tau_rc: tau_rc is read-only and cannot be changed"
     ]
    }
   ],
   "source": [
    "threshold = 2.0\n",
    "\n",
    "with nengo.Network(seed=0) as model:\n",
    "    \n",
    "    #Bias (can't specify I_e in LIF type like in NEST)\n",
    "    AMPA_Ie = nengo.Node(1.5)\n",
    "    NMDA_Ie = nengo.Node(1.5)\n",
    "    \n",
    "    #LIF types\n",
    "    type_AMPA = nengo.neurons.LIF(tau_rc=0.02, tau_ref=0.002, min_voltage=0, amplitude=1)\n",
    "    type_AMPA.tau_rc =.01\n",
    "    type_NMDA = nengo.neurons.LIF(tau_rc=0.02, tau_ref=0.002, min_voltage=0, amplitude=1)\n",
    "    #create input pop\n",
    "    stim_AMPA = nengo.Ensemble(1, 1, encoders=[[1]], gain=[1.], bias=[0.], neuron_type=type_AMPA)\n",
    "    stim_NMDA = nengo.Ensemble(1, 1, encoders=[[1]], gain=[1.], bias=[0.], neuron_type=type_NMDA)\n",
    "    stim_AMPA.I_e = 2.\n",
    "    \n",
    "    #connect bias -> input pop\n",
    "    print(type(nengo.Connection(AMPA_Ie, stim_AMPA.neurons, transform=[1/AMPA_thr], \n",
    "                     synapse=nengo.synapses.LinearFilter([1],[1],False))))\n",
    "    nengo.Connection(NMDA_Ie, stim_NMDA.neurons, transform=[1/NMDA_thr], \n",
    "                     synapse=nengo.synapses.LinearFilter([1],[1],False))\n",
    "    \n",
    "    #create output pop\n",
    "    out_type = nengo.neurons.LIF(tau_rc=0.02, tau_ref=0.002, min_voltage=0, amplitude=1)\n",
    "    out = nengo.Ensemble(1, 1, encoders=[[1]], gain=[1.], bias=[0.], neuron_type=out_type)\n",
    "    out1 = nengo.Ensemble(1, 1, encoders=[[1]], gain=[1.], bias=[0.], neuron_type=out_type)\n",
    "    \n",
    "    #synapse types\n",
    "    print(tau_syn)\n",
    "    syn_AMPA = nengo.synapses.Alpha(tau_syn[0]/1000.)\n",
    "    syn_NMDA = nengo.synapses.Alpha(tau_syn[1]/1000.)\n",
    "    nengo.Connection(stim_AMPA.neurons, out.neurons, transform=[1*e*tau_syn[0]/1000./out_thr], synapse=syn_AMPA)\n",
    "    nengo.Connection(stim_NMDA.neurons, out.neurons, transform=[0.7*e*tau_syn[1]/1000./out_thr], synapse=syn_NMDA)\n",
    "    \n",
    "    p_x_input = nengo.Probe(out.neurons, 'input')\n",
    "    p_x_voltage = nengo.Probe(out.neurons, 'voltage')\n",
    "   \n",
    "\n",
    "with nengo.Simulator(model, dt=.001) as sim:\n",
    "    sim.run(0.1)\n",
    "\n",
    "plt.figure(figsize = (18,6))\n",
    "plt.subplot(121)\n",
    "plt.plot(sim.trange()*1000, sim.data[p_x_input]*out_thr, color='black', linewidth=2.5)\n",
    "plt.xlabel(\"Time (ms)\")\n",
    "plt.ylabel('Input currents (mV)')\n",
    "plt.title(\"out neuron input\")\n",
    "\n",
    "plt.subplot(122)\n",
    "plt.title(\"out neuron activity\")\n",
    "plt.ylabel('Membrane voltage (mV)')\n",
    "plt.plot(sim.trange()*1000, sim.data[p_x_voltage]*out_thr, color='black', linewidth=2.5)\n",
    "plt.xlabel(\"Time (ms)\")\n",
    "plt.show()"
   ]
  },
  {
   "cell_type": "code",
   "execution_count": 8,
   "metadata": {},
   "outputs": [
    {
     "name": "stdout",
     "output_type": "stream",
     "text": [
      "1\n",
      "<Neurons of <Ensemble (unlabeled) at 0x7ffaa006cef0>>[0:1]\n",
      "[[1. 1. 1.]\n",
      " [1. 1. 1.]]\n"
     ]
    },
    {
     "name": "stderr",
     "output_type": "stream",
     "text": [
      "/usr/local/lib/python3.5/dist-packages/nengo/neurons.py:403: RuntimeWarning: divide by zero encountered in log1p\n",
      "  1.0 / (gain * (intercepts - 1) - 1)))\n"
     ]
    },
    {
     "data": {
      "text/html": [
       "\n",
       "                <div id=\"fa81de81-00ca-4ff5-bcf1-c6be94c42d02\" style=\"\n",
       "                    width: 100%;\n",
       "                    border: 1px solid #cfcfcf;\n",
       "                    border-radius: 4px;\n",
       "                    text-align: center;\n",
       "                    position: relative;\">\n",
       "                  <div class=\"pb-text\" style=\"\n",
       "                      position: absolute;\n",
       "                      width: 100%;\">\n",
       "                    0%\n",
       "                  </div>\n",
       "                  <div class=\"pb-fill\" style=\"\n",
       "                      background-color: #bdd2e6;\n",
       "                      width: 0%;\">\n",
       "                    <style type=\"text/css\" scoped=\"scoped\">\n",
       "                        @keyframes pb-fill-anim {\n",
       "                            0% { background-position: 0 0; }\n",
       "                            100% { background-position: 100px 0; }\n",
       "                        }\n",
       "                    </style>\n",
       "                    &nbsp;\n",
       "                  </div>\n",
       "                </div>"
      ],
      "text/plain": [
       "HtmlProgressBar cannot be displayed. Please use the TerminalProgressBar. It can be enabled with `nengo.rc.set('progress', 'progress_bar', 'nengo.utils.progress.TerminalProgressBar')`."
      ]
     },
     "metadata": {},
     "output_type": "display_data"
    },
    {
     "data": {
      "application/javascript": [
       "\n",
       "              (function () {\n",
       "                  var root = document.getElementById('fa81de81-00ca-4ff5-bcf1-c6be94c42d02');\n",
       "                  var text = root.getElementsByClassName('pb-text')[0];\n",
       "                  var fill = root.getElementsByClassName('pb-fill')[0];\n",
       "\n",
       "                  text.innerHTML = 'Build finished in 0:00:01.';\n",
       "                  \n",
       "            fill.style.width = '100%';\n",
       "            fill.style.animation = 'pb-fill-anim 2s linear infinite';\n",
       "            fill.style.backgroundSize = '100px 100%';\n",
       "            fill.style.backgroundImage = 'repeating-linear-gradient(' +\n",
       "                '90deg, #bdd2e6, #edf2f8 40%, #bdd2e6 80%, #bdd2e6)';\n",
       "        \n",
       "                  \n",
       "                fill.style.animation = 'none';\n",
       "                fill.style.backgroundImage = 'none';\n",
       "            \n",
       "              })();\n",
       "        "
      ],
      "text/plain": [
       "<IPython.core.display.Javascript object>"
      ]
     },
     "metadata": {},
     "output_type": "display_data"
    },
    {
     "data": {
      "text/html": [
       "\n",
       "                <div id=\"dc22d789-48d8-441a-9c4c-88dc1c05544f\" style=\"\n",
       "                    width: 100%;\n",
       "                    border: 1px solid #cfcfcf;\n",
       "                    border-radius: 4px;\n",
       "                    text-align: center;\n",
       "                    position: relative;\">\n",
       "                  <div class=\"pb-text\" style=\"\n",
       "                      position: absolute;\n",
       "                      width: 100%;\">\n",
       "                    0%\n",
       "                  </div>\n",
       "                  <div class=\"pb-fill\" style=\"\n",
       "                      background-color: #bdd2e6;\n",
       "                      width: 0%;\">\n",
       "                    <style type=\"text/css\" scoped=\"scoped\">\n",
       "                        @keyframes pb-fill-anim {\n",
       "                            0% { background-position: 0 0; }\n",
       "                            100% { background-position: 100px 0; }\n",
       "                        }\n",
       "                    </style>\n",
       "                    &nbsp;\n",
       "                  </div>\n",
       "                </div>"
      ],
      "text/plain": [
       "HtmlProgressBar cannot be displayed. Please use the TerminalProgressBar. It can be enabled with `nengo.rc.set('progress', 'progress_bar', 'nengo.utils.progress.TerminalProgressBar')`."
      ]
     },
     "metadata": {},
     "output_type": "display_data"
    },
    {
     "data": {
      "application/javascript": [
       "\n",
       "              (function () {\n",
       "                  var root = document.getElementById('dc22d789-48d8-441a-9c4c-88dc1c05544f');\n",
       "                  var text = root.getElementsByClassName('pb-text')[0];\n",
       "                  var fill = root.getElementsByClassName('pb-fill')[0];\n",
       "\n",
       "                  text.innerHTML = 'Simulation finished in 0:00:01.';\n",
       "                  \n",
       "            if (0.0 > 0.) {\n",
       "                fill.style.transition = 'width 0.1s linear';\n",
       "            } else {\n",
       "                fill.style.transition = 'none';\n",
       "            }\n",
       "\n",
       "            fill.style.width = '0.0%';\n",
       "            fill.style.animation = 'none';\n",
       "            fill.style.backgroundImage = 'none'\n",
       "        \n",
       "                  \n",
       "                fill.style.animation = 'none';\n",
       "                fill.style.backgroundImage = 'none';\n",
       "            \n",
       "              })();\n",
       "        "
      ],
      "text/plain": [
       "<IPython.core.display.Javascript object>"
      ]
     },
     "metadata": {},
     "output_type": "display_data"
    },
    {
     "ename": "KeyError",
     "evalue": "Signal(<Neurons of <Ensemble (unlabeled) at 0x7ffaa006cef0>>.voltage, shape=(5,))",
     "output_type": "error",
     "traceback": [
      "\u001b[0;31m---------------------------------------------------------------------------\u001b[0m",
      "\u001b[0;31mKeyError\u001b[0m                                  Traceback (most recent call last)",
      "\u001b[0;32m/usr/local/lib/python3.5/dist-packages/nengo/builder/signal.py\u001b[0m in \u001b[0;36m__getitem__\u001b[0;34m(self, key)\u001b[0m\n\u001b[1;32m    260\u001b[0m         \u001b[0;32mtry\u001b[0m\u001b[0;34m:\u001b[0m\u001b[0;34m\u001b[0m\u001b[0m\n\u001b[0;32m--> 261\u001b[0;31m             \u001b[0;32mreturn\u001b[0m \u001b[0mdict\u001b[0m\u001b[0;34m.\u001b[0m\u001b[0m__getitem__\u001b[0m\u001b[0;34m(\u001b[0m\u001b[0mself\u001b[0m\u001b[0;34m,\u001b[0m \u001b[0mkey\u001b[0m\u001b[0;34m)\u001b[0m\u001b[0;34m\u001b[0m\u001b[0m\n\u001b[0m\u001b[1;32m    262\u001b[0m         \u001b[0;32mexcept\u001b[0m \u001b[0mKeyError\u001b[0m\u001b[0;34m:\u001b[0m\u001b[0;34m\u001b[0m\u001b[0m\n",
      "\u001b[0;31mKeyError\u001b[0m: Signal(<Neurons of <Ensemble (unlabeled) at 0x7ffaa006cef0>>.voltage[(slice(0, 1, None),)], shape=(1,))",
      "\nDuring handling of the above exception, another exception occurred:\n",
      "\u001b[0;31mKeyError\u001b[0m                                  Traceback (most recent call last)",
      "\u001b[0;32m<ipython-input-8-4a77126212b6>\u001b[0m in \u001b[0;36m<module>\u001b[0;34m()\u001b[0m\n\u001b[1;32m     18\u001b[0m \u001b[0;34m\u001b[0m\u001b[0m\n\u001b[1;32m     19\u001b[0m \u001b[0;32mwith\u001b[0m \u001b[0mnengo\u001b[0m\u001b[0;34m.\u001b[0m\u001b[0mSimulator\u001b[0m\u001b[0;34m(\u001b[0m\u001b[0mmodel\u001b[0m\u001b[0;34m,\u001b[0m \u001b[0mdt\u001b[0m\u001b[0;34m=\u001b[0m\u001b[0;36m.001\u001b[0m\u001b[0;34m)\u001b[0m \u001b[0;32mas\u001b[0m \u001b[0msim\u001b[0m\u001b[0;34m:\u001b[0m\u001b[0;34m\u001b[0m\u001b[0m\n\u001b[0;32m---> 20\u001b[0;31m     \u001b[0msim\u001b[0m\u001b[0;34m.\u001b[0m\u001b[0mrun\u001b[0m\u001b[0;34m(\u001b[0m\u001b[0;36m0.1\u001b[0m\u001b[0;34m)\u001b[0m\u001b[0;34m\u001b[0m\u001b[0m\n\u001b[0m\u001b[1;32m     21\u001b[0m \u001b[0;34m\u001b[0m\u001b[0m\n\u001b[1;32m     22\u001b[0m \u001b[0;32mfor\u001b[0m \u001b[0mi\u001b[0m \u001b[0;32min\u001b[0m \u001b[0mrange\u001b[0m\u001b[0;34m(\u001b[0m\u001b[0;36m5\u001b[0m\u001b[0;34m)\u001b[0m\u001b[0;34m:\u001b[0m\u001b[0;34m\u001b[0m\u001b[0m\n",
      "\u001b[0;32m/usr/local/lib/python3.5/dist-packages/nengo/simulator.py\u001b[0m in \u001b[0;36mrun\u001b[0;34m(self, time_in_seconds, progress_bar)\u001b[0m\n\u001b[1;32m    319\u001b[0m             logger.info(\"Running %s for %f seconds, or %d steps\",\n\u001b[1;32m    320\u001b[0m                         self.model.label, time_in_seconds, steps)\n\u001b[0;32m--> 321\u001b[0;31m             \u001b[0mself\u001b[0m\u001b[0;34m.\u001b[0m\u001b[0mrun_steps\u001b[0m\u001b[0;34m(\u001b[0m\u001b[0msteps\u001b[0m\u001b[0;34m,\u001b[0m \u001b[0mprogress_bar\u001b[0m\u001b[0;34m=\u001b[0m\u001b[0mprogress_bar\u001b[0m\u001b[0;34m)\u001b[0m\u001b[0;34m\u001b[0m\u001b[0m\n\u001b[0m\u001b[1;32m    322\u001b[0m \u001b[0;34m\u001b[0m\u001b[0m\n\u001b[1;32m    323\u001b[0m     \u001b[0;32mdef\u001b[0m \u001b[0mrun_steps\u001b[0m\u001b[0;34m(\u001b[0m\u001b[0mself\u001b[0m\u001b[0;34m,\u001b[0m \u001b[0msteps\u001b[0m\u001b[0;34m,\u001b[0m \u001b[0mprogress_bar\u001b[0m\u001b[0;34m=\u001b[0m\u001b[0;32mNone\u001b[0m\u001b[0;34m)\u001b[0m\u001b[0;34m:\u001b[0m\u001b[0;34m\u001b[0m\u001b[0m\n",
      "\u001b[0;32m/usr/local/lib/python3.5/dist-packages/nengo/simulator.py\u001b[0m in \u001b[0;36mrun_steps\u001b[0;34m(self, steps, progress_bar)\u001b[0m\n\u001b[1;32m    343\u001b[0m                 \"Simulating\", \"Simulation\", steps)) as pt:\n\u001b[1;32m    344\u001b[0m             \u001b[0;32mfor\u001b[0m \u001b[0mi\u001b[0m \u001b[0;32min\u001b[0m \u001b[0mrange\u001b[0m\u001b[0;34m(\u001b[0m\u001b[0msteps\u001b[0m\u001b[0;34m)\u001b[0m\u001b[0;34m:\u001b[0m\u001b[0;34m\u001b[0m\u001b[0m\n\u001b[0;32m--> 345\u001b[0;31m                 \u001b[0mself\u001b[0m\u001b[0;34m.\u001b[0m\u001b[0mstep\u001b[0m\u001b[0;34m(\u001b[0m\u001b[0;34m)\u001b[0m\u001b[0;34m\u001b[0m\u001b[0m\n\u001b[0m\u001b[1;32m    346\u001b[0m                 \u001b[0mpt\u001b[0m\u001b[0;34m.\u001b[0m\u001b[0mtotal_progress\u001b[0m\u001b[0;34m.\u001b[0m\u001b[0mstep\u001b[0m\u001b[0;34m(\u001b[0m\u001b[0;34m)\u001b[0m\u001b[0;34m\u001b[0m\u001b[0m\n\u001b[1;32m    347\u001b[0m \u001b[0;34m\u001b[0m\u001b[0m\n",
      "\u001b[0;32m/usr/local/lib/python3.5/dist-packages/nengo/simulator.py\u001b[0m in \u001b[0;36mstep\u001b[0;34m(self)\u001b[0m\n\u001b[1;32m    358\u001b[0m             \u001b[0mnp\u001b[0m\u001b[0;34m.\u001b[0m\u001b[0mseterr\u001b[0m\u001b[0;34m(\u001b[0m\u001b[0;34m**\u001b[0m\u001b[0mold_err\u001b[0m\u001b[0;34m)\u001b[0m\u001b[0;34m\u001b[0m\u001b[0m\n\u001b[1;32m    359\u001b[0m \u001b[0;34m\u001b[0m\u001b[0m\n\u001b[0;32m--> 360\u001b[0;31m         \u001b[0mself\u001b[0m\u001b[0;34m.\u001b[0m\u001b[0m_probe\u001b[0m\u001b[0;34m(\u001b[0m\u001b[0;34m)\u001b[0m\u001b[0;34m\u001b[0m\u001b[0m\n\u001b[0m\u001b[1;32m    361\u001b[0m \u001b[0;34m\u001b[0m\u001b[0m\n\u001b[1;32m    362\u001b[0m     \u001b[0;32mdef\u001b[0m \u001b[0mtrange\u001b[0m\u001b[0;34m(\u001b[0m\u001b[0mself\u001b[0m\u001b[0;34m,\u001b[0m \u001b[0mdt\u001b[0m\u001b[0;34m=\u001b[0m\u001b[0;32mNone\u001b[0m\u001b[0;34m)\u001b[0m\u001b[0;34m:\u001b[0m\u001b[0;34m\u001b[0m\u001b[0m\n",
      "\u001b[0;32m/usr/local/lib/python3.5/dist-packages/nengo/simulator.py\u001b[0m in \u001b[0;36m_probe\u001b[0;34m(self)\u001b[0m\n\u001b[1;32m    242\u001b[0m                       probe.sample_every / self.dt)\n\u001b[1;32m    243\u001b[0m             \u001b[0;32mif\u001b[0m \u001b[0mself\u001b[0m\u001b[0;34m.\u001b[0m\u001b[0mn_steps\u001b[0m \u001b[0;34m%\u001b[0m \u001b[0mperiod\u001b[0m \u001b[0;34m<\u001b[0m \u001b[0;36m1\u001b[0m\u001b[0;34m:\u001b[0m\u001b[0;34m\u001b[0m\u001b[0m\n\u001b[0;32m--> 244\u001b[0;31m                 \u001b[0mtmp\u001b[0m \u001b[0;34m=\u001b[0m \u001b[0mself\u001b[0m\u001b[0;34m.\u001b[0m\u001b[0msignals\u001b[0m\u001b[0;34m[\u001b[0m\u001b[0mself\u001b[0m\u001b[0;34m.\u001b[0m\u001b[0mmodel\u001b[0m\u001b[0;34m.\u001b[0m\u001b[0msig\u001b[0m\u001b[0;34m[\u001b[0m\u001b[0mprobe\u001b[0m\u001b[0;34m]\u001b[0m\u001b[0;34m[\u001b[0m\u001b[0;34m'in'\u001b[0m\u001b[0;34m]\u001b[0m\u001b[0;34m]\u001b[0m\u001b[0;34m.\u001b[0m\u001b[0mcopy\u001b[0m\u001b[0;34m(\u001b[0m\u001b[0;34m)\u001b[0m\u001b[0;34m\u001b[0m\u001b[0m\n\u001b[0m\u001b[1;32m    245\u001b[0m                 \u001b[0mself\u001b[0m\u001b[0;34m.\u001b[0m\u001b[0m_probe_outputs\u001b[0m\u001b[0;34m[\u001b[0m\u001b[0mprobe\u001b[0m\u001b[0;34m]\u001b[0m\u001b[0;34m.\u001b[0m\u001b[0mappend\u001b[0m\u001b[0;34m(\u001b[0m\u001b[0mtmp\u001b[0m\u001b[0;34m)\u001b[0m\u001b[0;34m\u001b[0m\u001b[0m\n\u001b[1;32m    246\u001b[0m \u001b[0;34m\u001b[0m\u001b[0m\n",
      "\u001b[0;32m/usr/local/lib/python3.5/dist-packages/nengo/builder/signal.py\u001b[0m in \u001b[0;36m__getitem__\u001b[0;34m(self, key)\u001b[0m\n\u001b[1;32m    263\u001b[0m             \u001b[0;32mif\u001b[0m \u001b[0misinstance\u001b[0m\u001b[0;34m(\u001b[0m\u001b[0mkey\u001b[0m\u001b[0;34m,\u001b[0m \u001b[0mSignal\u001b[0m\u001b[0;34m)\u001b[0m \u001b[0;32mand\u001b[0m \u001b[0mkey\u001b[0m\u001b[0;34m.\u001b[0m\u001b[0mbase\u001b[0m \u001b[0;32mis\u001b[0m \u001b[0;32mnot\u001b[0m \u001b[0mkey\u001b[0m\u001b[0;34m:\u001b[0m\u001b[0;34m\u001b[0m\u001b[0m\n\u001b[1;32m    264\u001b[0m                 \u001b[0;31m# return a view on the base signal\u001b[0m\u001b[0;34m\u001b[0m\u001b[0;34m\u001b[0m\u001b[0m\n\u001b[0;32m--> 265\u001b[0;31m                 \u001b[0mbase\u001b[0m \u001b[0;34m=\u001b[0m \u001b[0mdict\u001b[0m\u001b[0;34m.\u001b[0m\u001b[0m__getitem__\u001b[0m\u001b[0;34m(\u001b[0m\u001b[0mself\u001b[0m\u001b[0;34m,\u001b[0m \u001b[0mkey\u001b[0m\u001b[0;34m.\u001b[0m\u001b[0mbase\u001b[0m\u001b[0;34m)\u001b[0m\u001b[0;34m\u001b[0m\u001b[0m\n\u001b[0m\u001b[1;32m    266\u001b[0m                 return np.ndarray(\n\u001b[1;32m    267\u001b[0m                     \u001b[0mbuffer\u001b[0m\u001b[0;34m=\u001b[0m\u001b[0mbase\u001b[0m\u001b[0;34m,\u001b[0m \u001b[0mdtype\u001b[0m\u001b[0;34m=\u001b[0m\u001b[0mkey\u001b[0m\u001b[0;34m.\u001b[0m\u001b[0mdtype\u001b[0m\u001b[0;34m,\u001b[0m \u001b[0mshape\u001b[0m\u001b[0;34m=\u001b[0m\u001b[0mkey\u001b[0m\u001b[0;34m.\u001b[0m\u001b[0mshape\u001b[0m\u001b[0;34m,\u001b[0m\u001b[0;34m\u001b[0m\u001b[0m\n",
      "\u001b[0;31mKeyError\u001b[0m: Signal(<Neurons of <Ensemble (unlabeled) at 0x7ffaa006cef0>>.voltage, shape=(5,))"
     ]
    }
   ],
   "source": [
    "with nengo.Network(seed=0) as model:\n",
    "    Ie = nengo.Node([100])\n",
    "    print(Ie.size_out)\n",
    "    pop = nengo.Ensemble(5,1,bias=[0]*5, gain=[1]*5, encoders=[[1]]*5)\n",
    "    nengo.Connection(Ie, pop, transform=[1])\n",
    "    print(pop.neurons[0])\n",
    "    \n",
    "    a = nengo.Ensemble(3,1)\n",
    "    b = nengo.Ensemble(2,1)\n",
    "    co = nengo.Connection(a.neurons, b.neurons, transform=np.ones((2,3)))\n",
    "    print(co.transform)\n",
    "\n",
    "    probe = []\n",
    "    for i in range(5):\n",
    "        probe.append(nengo.Probe(pop.neurons[i], 'voltage'))\n",
    "    \n",
    "   \n",
    "\n",
    "with nengo.Simulator(model, dt=.001) as sim:\n",
    "    sim.run(0.1)\n",
    "    \n",
    "for i in range(5):\n",
    "    plt.plot(sim.trange()*1000, sim.data[probe[i]])\n",
    "    plt.show()\n",
    "\n"
   ]
  },
  {
   "cell_type": "code",
   "execution_count": null,
   "metadata": {},
   "outputs": [],
   "source": []
  }
 ],
 "metadata": {
  "kernelspec": {
   "display_name": "Python 3",
   "language": "python",
   "name": "python3"
  },
  "language_info": {
   "codemirror_mode": {
    "name": "ipython",
    "version": 3
   },
   "file_extension": ".py",
   "mimetype": "text/x-python",
   "name": "python",
   "nbconvert_exporter": "python",
   "pygments_lexer": "ipython3",
   "version": "3.5.2"
  }
 },
 "nbformat": 4,
 "nbformat_minor": 2
}
