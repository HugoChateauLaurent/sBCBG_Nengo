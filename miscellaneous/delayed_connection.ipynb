{
 "cells": [
  {
   "cell_type": "code",
   "execution_count": 54,
   "metadata": {},
   "outputs": [],
   "source": [
    "import nengo\n",
    "import matplotlib.pyplot as plt\n",
    "import numpy as np"
   ]
  },
  {
   "cell_type": "code",
   "execution_count": 70,
   "metadata": {},
   "outputs": [],
   "source": [
    "dt = .001\n",
    "\n",
    "class Delay(object):\n",
    "  def __init__(self, dimensions, timesteps):\n",
    "    self.history = np.zeros((timesteps, dimensions))\n",
    "    print(self.history.shape)\n",
    "  def step(self, t, x):\n",
    "    self.history = np.roll(self.history, -1, 0)\n",
    "    self.history[-1] = x\n",
    "    return self.history[0]\n",
    "\n",
    "def delayed_connection(pre, post, delay, transform, synapse):\n",
    "  with net:\n",
    "    delayNode = nengo.Node(Delay(pre.n_neurons, int((delay/1000.) / dt)).step, \n",
    "                            size_in=pre.n_neurons, \n",
    "                            size_out=pre.n_neurons)\n",
    "\n",
    "    pre_to_delay = nengo.Connection(pre.neurons, delayNode, \n",
    "                                    transform=np.ones((pre.n_neurons)),\n",
    "                                    synapse=None)\n",
    "\n",
    "    delay_to_post = nengo.Connection(delayNode, post.neurons, \n",
    "                                      transform=transform, \n",
    "                                      synapse=synapse)\n",
    "\n",
    "    return {'pre_to_delay':pre_to_delay, 'delay_to_post':delay_to_post}"
   ]
  },
  {
   "cell_type": "code",
   "execution_count": 71,
   "metadata": {},
   "outputs": [
    {
     "name": "stdout",
     "output_type": "stream",
     "text": [
      "(200, 100)\n",
      "Build finished in 0:00:01.                                                      \n",
      "Simulation finished in 0:00:01.                                                 \n"
     ]
    }
   ],
   "source": [
    "net = nengo.Network()\n",
    "\n",
    "def f_in(t):\n",
    "    return 100 if t>0.2 else 0\n",
    "\n",
    "with net:\n",
    "    \n",
    "    Ie = nengo.Node(f_in)\n",
    "    \n",
    "    A = 100\n",
    "    A = nengo.Ensemble(n_A, 1, encoders=np.ones((n_A,1)), \n",
    "                              gain=np.ones((n_A)), \n",
    "                              bias=np.zeros((n_A)))\n",
    "    \n",
    "    # Ie -> A\n",
    "    nengo.Connection(Ie, A)\n",
    "    \n",
    "    n_B = 100\n",
    "    B = nengo.Ensemble(n_B, 1, encoders=np.ones((n_B,1)), \n",
    "                              gain=np.ones((n_B)), \n",
    "                              bias=np.zeros((n_B)))\n",
    "    \n",
    "    # A -> B\n",
    "    delayed_connection(A, B, 200, np.ones((A.n_neurons, B.n_neurons)), None)\n",
    "    \n",
    "    \n",
    "    raster_A = nengo.Probe(A.neurons, 'output')\n",
    "    raster_B = nengo.Probe(B.neurons, 'output')\n",
    "    \n",
    "with nengo.Simulator(net, dt=dt) as sim:\n",
    "    sim.run(0.5)"
   ]
  },
  {
   "cell_type": "code",
   "execution_count": 72,
   "metadata": {},
   "outputs": [
    {
     "data": {
      "image/png": "[encoded data removed]",
      "text/plain": [
       "<Figure size 432x288 with 1 Axes>"
      ]
     },
     "metadata": {
      "needs_background": "light"
     },
     "output_type": "display_data"
    },
    {
     "data": {
      "image/png": "[encoded data removed]",
      "text/plain": [
       "<Figure size 432x288 with 1 Axes>"
      ]
     },
     "metadata": {
      "needs_background": "light"
     },
     "output_type": "display_data"
    }
   ],
   "source": [
    "plt.plot(sim.trange(), sim.data[raster_A])\n",
    "plt.show()\n",
    "\n",
    "plt.plot(sim.trange(), sim.data[raster_B])\n",
    "plt.show()"
   ]
  },
  {
   "cell_type": "code",
   "execution_count": null,
   "metadata": {},
   "outputs": [],
   "source": []
  },
  {
   "cell_type": "code",
   "execution_count": null,
   "metadata": {},
   "outputs": [],
   "source": []
  }
 ],
 "metadata": {
  "kernelspec": {
   "display_name": "Python 2",
   "language": "python",
   "name": "python2"
  },
  "language_info": {
   "codemirror_mode": {
    "name": "ipython",
    "version": 2
   },
   "file_extension": ".py",
   "mimetype": "text/x-python",
   "name": "python",
   "nbconvert_exporter": "python",
   "pygments_lexer": "ipython2",
   "version": "2.7.12"
  }
 },
 "nbformat": 4,
 "nbformat_minor": 2
}
